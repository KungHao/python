{
 "cells": [
  {
   "cell_type": "code",
   "execution_count": 12,
   "metadata": {
    "collapsed": false
   },
   "outputs": [
    {
     "name": "stdout",
     "output_type": "stream",
     "text": [
      "剪刀、石頭、布：石頭\n",
      "電腦出： 布\n",
      "再接再厲～別放棄！\n"
     ]
    }
   ],
   "source": [
    "import random\n",
    "a={'剪刀':0, \"石頭\":1,\"布\":2}\n",
    "b={0:'剪刀', 1:\"石頭\",2:\"布\"}\n",
    "computer=random.randint(0,2)\n",
    "person=input(\"剪刀、石頭、布：\")\n",
    "while True:\n",
    "    if computer == a[person]:\n",
    "        print(\"電腦出：\" , b[computer])\n",
    "        print(\"平手\")\n",
    "        computer=random.randint(0,2)\n",
    "        person=input(\"剪刀、石頭、布：\")\n",
    "    else:\n",
    "        if a[person] - computer == 1 or a[person] - computer == -2:\n",
    "            print(\"電腦出：\" , b[computer])\n",
    "            print(\"恭喜你贏了！！\")          \n",
    "            break\n",
    "        else:\n",
    "            print(\"電腦出：\" , b[computer])\n",
    "            print(\"再接再厲～別放棄！\" )\n",
    "            break"
   ]
  },
  {
   "cell_type": "code",
   "execution_count": 27,
   "metadata": {
    "collapsed": false
   },
   "outputs": [
    {
     "name": "stdout",
     "output_type": "stream",
     "text": [
      "aaa剪刀\n"
     ]
    },
    {
     "data": {
      "text/plain": [
       "0"
      ]
     },
     "execution_count": 27,
     "metadata": {},
     "output_type": "execute_result"
    }
   ],
   "source": [
    "a={'剪刀':0, \"石頭\":1,\"布\":2}\n",
    "pp=input(\"aaa\")\n"
   ]
  },
  {
   "cell_type": "code",
   "execution_count": null,
   "metadata": {
    "collapsed": true
   },
   "outputs": [],
   "source": []
  }
 ],
 "metadata": {
  "kernelspec": {
   "display_name": "Python 3",
   "language": "python",
   "name": "python3"
  }
 },
 "nbformat": 4,
 "nbformat_minor": 0
}
