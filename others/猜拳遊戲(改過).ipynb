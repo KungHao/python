{
 "cells": [
  {
   "cell_type": "code",
   "execution_count": 3,
   "metadata": {
    "collapsed": false
   },
   "outputs": [
    {
     "name": "stdout",
     "output_type": "stream",
     "text": [
      "剪刀、石頭、布：布\n",
      "電腦出： 石頭 \n",
      "恭喜你贏了！！\n",
      "剪刀、石頭、布：布\n",
      "電腦出： 剪刀 \n",
      "再接再厲～別放棄！\n",
      "剪刀、石頭、布：布\n",
      "電腦出： 剪刀 \n",
      "再接再厲～別放棄！\n",
      "剪刀、石頭、布：布\n",
      "電腦出： 剪刀 \n",
      "再接再厲～別放棄！\n",
      "剪刀、石頭、布：布\n",
      "電腦出： 剪刀 \n",
      "再接再厲～別放棄！\n",
      "剪刀、石頭、布：布\n",
      "電腦出： 布\n",
      "平手\n",
      "剪刀、石頭、布：布\n",
      "電腦出： 剪刀 \n",
      "再接再厲～別放棄！\n",
      "剪刀、石頭、布：quit\n",
      "下次再玩\n"
     ]
    }
   ],
   "source": [
    "import random\n",
    "a={'剪刀':0, \"石頭\":1,\"布\":2}\n",
    "while True:\n",
    "    computer=random.choice(['剪刀', \"石頭\",\"布\"])\n",
    "    person=input(\"剪刀、石頭、布：\")\n",
    "    if person == \"quit\":\n",
    "        print(\"下次再玩\")\n",
    "        break\n",
    "    elif person == \"剪刀\" or person ==\"布\" or person == \"石頭\":\n",
    "        if computer == person:\n",
    "            print(\"電腦出：\" , computer)\n",
    "            print(\"平手\")\n",
    "        else:\n",
    "            if a[person] - a[computer] == 1 or a[person] - a[computer] == -2:\n",
    "                print(\"電腦出：\" , computer , \"\\n恭喜你贏了！！\" )\n",
    "            else:\n",
    "                print(\"電腦出：\" , computer,\"\\n再接再厲～別放棄！\")\n",
    "    else:\n",
    "        print(\"輸入錯誤\")"
   ]
  }
 ],
 "metadata": {
  "kernelspec": {
   "display_name": "Python 3",
   "language": "python",
   "name": "python3"
  },
  "language_info": {
   "codemirror_mode": {
    "name": "ipython",
    "version": 3
   },
   "file_extension": ".py",
   "mimetype": "text/x-python",
   "name": "python",
   "nbconvert_exporter": "python",
   "pygments_lexer": "ipython3",
   "version": "3.4.3"
  }
 },
 "nbformat": 4,
 "nbformat_minor": 0
}
