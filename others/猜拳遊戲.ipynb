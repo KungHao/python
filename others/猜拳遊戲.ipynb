{
 "cells": [
  {
   "cell_type": "code",
   "execution_count": 11,
   "metadata": {
    "collapsed": false
   },
   "outputs": [
    {
     "name": "stdout",
     "output_type": "stream",
     "text": [
      "剪刀、石頭、布：quit\n",
      "下次再玩\n"
     ]
    }
   ],
   "source": [
    "import random\n",
    "a={'剪刀':0, \"石頭\":1,\"布\":2}\n",
    "computer=random.choice(['剪刀', \"石頭\",\"布\"])\n",
    "person=input(\"剪刀、石頭、布：\")\n",
    "if person == \"quit\":\n",
    "    print(\"下次再玩\")\n",
    "elif person == \"剪刀\" or person ==\"布\" or person == \"石頭\":\n",
    "    while True:\n",
    "        if computer == person:\n",
    "            print(\"電腦出：\" , computer)\n",
    "            print(\"平手\")\n",
    "            computer=random.choice(['剪刀', \"石頭\",\"布\"])\n",
    "            person=input(\"剪刀、石頭、布：\")\n",
    "        else:\n",
    "            if a[person] - a[computer] == 1 or a[person] - a[computer] == -2:\n",
    "                print(\"電腦出：\" , computer , \"\\n恭喜你贏了！！\" )\n",
    "                break\n",
    "            else:\n",
    "                print(\"電腦出：\" , computer,\"\\n再接再厲～別放棄！\")\n",
    "                break\n",
    "else:\n",
    "    print(\"輸入錯誤\")"
   ]
  },
  {
   "cell_type": "code",
   "execution_count": 14,
   "metadata": {
    "collapsed": false
   },
   "outputs": [
    {
     "name": "stdout",
     "output_type": "stream",
     "text": [
      "剪刀、石頭、布：s\n",
      "輸入錯誤\n",
      "剪刀、石頭、布：s \n",
      "輸入錯誤\n",
      "剪刀、石頭、布：布\n",
      "電腦出： 布\n",
      "平手\n",
      "剪刀、石頭、布：\n",
      "剪刀、石頭、布：\n",
      "輸入錯誤\n",
      "剪刀、石頭、布：布\n",
      "電腦出： 石頭 \n",
      "恭喜你贏了！！\n",
      "剪刀、石頭、布：quit\n",
      "下次再玩\n"
     ]
    }
   ],
   "source": [
    "import random\n",
    "a={'剪刀':0, \"石頭\":1,\"布\":2}\n",
    "while True:\n",
    "    computer=random.choice(['剪刀', \"石頭\",\"布\"])\n",
    "    person=input(\"剪刀、石頭、布：\")\n",
    "    if person == \"quit\":\n",
    "        print(\"下次再玩\")\n",
    "        break\n",
    "    elif person == \"剪刀\" or person ==\"布\" or person == \"石頭\":\n",
    "        if computer == person:\n",
    "            print(\"電腦出：\" , computer)\n",
    "            print(\"平手\")\n",
    "            computer=random.choice(['剪刀', \"石頭\",\"布\"])\n",
    "            person=input(\"剪刀、石頭、布：\")\n",
    "        else:\n",
    "            if a[person] - a[computer] == 1 or a[person] - a[computer] == -2:\n",
    "                print(\"電腦出：\" , computer , \"\\n恭喜你贏了！！\" )\n",
    "            else:\n",
    "                print(\"電腦出：\" , computer,\"\\n再接再厲～別放棄！\")\n",
    "    else:\n",
    "        print(\"輸入錯誤\")"
   ]
  },
  {
   "cell_type": "code",
   "execution_count": 8,
   "metadata": {
    "collapsed": false
   },
   "outputs": [
    {
     "ename": "IndentationError",
     "evalue": "expected an indented block (<ipython-input-8-70713c8ff470>, line 2)",
     "output_type": "error",
     "traceback": [
      "\u001b[1;36m  File \u001b[1;32m\"<ipython-input-8-70713c8ff470>\"\u001b[1;36m, line \u001b[1;32m2\u001b[0m\n\u001b[1;33m    print(line)\u001b[0m\n\u001b[1;37m        ^\u001b[0m\n\u001b[1;31mIndentationError\u001b[0m\u001b[1;31m:\u001b[0m expected an indented block\n"
     ]
    },
    {
     "ename": "IndentationError",
     "evalue": "expected an indented block (<ipython-input-8-70713c8ff470>, line 2)",
     "output_type": "error",
     "traceback": [
      "\u001b[1;36m  File \u001b[1;32m\"<ipython-input-8-70713c8ff470>\"\u001b[1;36m, line \u001b[1;32m2\u001b[0m\n\u001b[1;33m    print(line)\u001b[0m\n\u001b[1;37m        ^\u001b[0m\n\u001b[1;31mIndentationError\u001b[0m\u001b[1;31m:\u001b[0m expected an indented block\n"
     ]
    }
   ],
   "source": [
    "for line in open(\"txt.txt\"):\n",
    "print(line)"
   ]
  },
  {
   "cell_type": "code",
   "execution_count": null,
   "metadata": {
    "collapsed": true
   },
   "outputs": [],
   "source": []
  }
 ],
 "metadata": {
  "kernelspec": {
   "display_name": "Python 3",
   "language": "python",
   "name": "python3"
  },
  "language_info": {
   "codemirror_mode": {
    "name": "ipython",
    "version": 3
   },
   "file_extension": ".py",
   "mimetype": "text/x-python",
   "name": "python",
   "nbconvert_exporter": "python",
   "pygments_lexer": "ipython3",
   "version": "3.4.3"
  }
 },
 "nbformat": 4,
 "nbformat_minor": 0
}
